{
  "nbformat": 4,
  "nbformat_minor": 0,
  "metadata": {
    "colab": {
      "provenance": [],
      "authorship_tag": "ABX9TyOaVlzFgwdb5xvPFCc/4aFh",
      "include_colab_link": true
    },
    "kernelspec": {
      "name": "python3",
      "display_name": "Python 3"
    },
    "language_info": {
      "name": "python"
    }
  },
  "cells": [
    {
      "cell_type": "markdown",
      "metadata": {
        "id": "view-in-github",
        "colab_type": "text"
      },
      "source": [
        "<a href=\"https://colab.research.google.com/github/diogocarneiro20/Queries-postgresql/blob/main/Sql_queries.ipynb\" target=\"_parent\"><img src=\"https://colab.research.google.com/assets/colab-badge.svg\" alt=\"Open In Colab\"/></a>"
      ]
    },
    {
      "cell_type": "code",
      "execution_count": 7,
      "metadata": {
        "id": "snrG2BOht2kI"
      },
      "outputs": [],
      "source": [
        "\n",
        "\n",
        "songplay_table_drop = \"DROP TABLE if exists songplays\"\n",
        "user_table_drop = \"DROP TABLE if exists users\"\n",
        "song_table_drop = \"DROP TABLE if exists songs\"\n",
        "artist_table_drop = \"DROP TABLE if exists artists\"\n",
        "time_table_drop = \"DROP TABLE if exists time\""
      ]
    },
    {
      "cell_type": "code",
      "source": [
        "\n",
        "songplay_table_create = (\"\"\"CREATE TABLE IF NOT EXISTS songplays (\n",
        "songplay_id SERIAL Primary Key,\n",
        "start_time timestamp not Null,\n",
        "user_id int not Null,\n",
        "level varchar,\n",
        "song_id varchar,\n",
        "artist_id varchar,\n",
        "session_id int,\n",
        "location varchar,\n",
        "user_agent varchar\n",
        ");\"\"\")"
      ],
      "metadata": {
        "id": "38dtjiKYuFQ1"
      },
      "execution_count": 8,
      "outputs": []
    },
    {
      "cell_type": "code",
      "source": [
        "user_table_create = (\"\"\"CREATE TABLE IF NOT EXISTS users (\n",
        "user_id int Primary Key,\n",
        "first_name varchar,\n",
        "last_name varchar,\n",
        "gender varchar,\n",
        "level varchar\n",
        ");\"\"\")"
      ],
      "metadata": {
        "id": "-3fkBnDyuReN"
      },
      "execution_count": null,
      "outputs": []
    },
    {
      "cell_type": "code",
      "source": [
        "song_table_create = (\"\"\"CREATE TABLE IF NOT EXISTS songs(\n",
        "song_id varchar Primary Key,\n",
        "title varchar,\n",
        "artist_id varchar,\n",
        "year int,\n",
        "duration float\n",
        ");\"\"\")"
      ],
      "metadata": {
        "id": "mUIAmdymucBi"
      },
      "execution_count": null,
      "outputs": []
    },
    {
      "cell_type": "code",
      "source": [
        "artist_table_create = (\"\"\"CREATE TABLE IF NOT EXISTS artists (\n",
        "artist_id varchar Primary Key,\n",
        "name varchar,\n",
        "location varchar,\n",
        "latitude float,\n",
        "longitude float\n",
        ");\"\"\")"
      ],
      "metadata": {
        "id": "rLEo3AkTuoQy"
      },
      "execution_count": null,
      "outputs": []
    },
    {
      "cell_type": "code",
      "source": [
        "time_table_create = (\"\"\"CREATE TABLE IF NOT EXISTS time (\n",
        "start_time timestamp Primary Key,\n",
        "hour int,\n",
        "day int,\n",
        "week int,\n",
        "month int,\n",
        "year int,\n",
        "weekday int\n",
        ");\"\"\")\n",
        "\n",
        "# INSERT RECORDS\n",
        "\n",
        "songplay_table_insert = (\"\"\"INSERT INTO songplays(\n",
        "start_time,\n",
        "user_id,\n",
        "level,\n",
        "song_id,\n",
        "artist_id,\n",
        "session_id,\n",
        "location,\n",
        "user_agent)\n",
        "VALUES (%s,%s,%s,%s,%s,%s,%s,%s)\n",
        "ON CONFLICT DO NOTHING\n",
        "\"\"\")\n",
        "\n",
        "user_table_insert = (\"\"\"INSERT INTO users(\n",
        "user_id,\n",
        "first_name,\n",
        "last_name,\n",
        "gender,\n",
        "level)\n",
        "VALUES (%s,%s,%s,%s,%s)\n",
        "ON CONFLICT (user_id) DO UPDATE SET level = EXCLUDED.level;\n",
        "\"\"\")\n",
        "\n",
        "song_table_insert = (\"\"\"INSERT INTO songs(\n",
        "song_id,\n",
        "title,\n",
        "artist_id,\n",
        "year,\n",
        "duration)\n",
        "VALUES (%s,%s,%s,%s,%s)\n",
        "ON CONFLICT DO NOTHING\n",
        "\"\"\")\n",
        "\n",
        "artist_table_insert = (\"\"\"INSERT INTO artists(\n",
        "artist_id,\n",
        "name,\n",
        "location,\n",
        "latitude,\n",
        "longitude)\n",
        "VALUES (%s,%s,%s,%s,%s)\n",
        "ON CONFLICT DO NOTHING\n",
        "\"\"\")\n",
        "\n",
        "\n",
        "time_table_insert = (\"\"\"INSERT INTO time(\n",
        "start_time,\n",
        "hour,\n",
        "day,\n",
        "week,\n",
        "month,\n",
        "year,\n",
        "weekday)\n",
        "VALUES(%s,%s,%s,%s,%s,%s,%s)\n",
        "ON CONFLICT DO NOTHING\n",
        "\"\"\")\n",
        "\n",
        "# FIND SONGS\n",
        "\n",
        "song_select = (\"\"\"SELECT song_id , artists.artist_id FROM songs JOIN artists ON songs.artist_id = artists.artist_id where title=%s AND name=%s AND duration=%s\"\"\")\n",
        "\n",
        "# QUERY LISTS\n",
        "\n",
        "create_table_queries = [songplay_table_create, user_table_create, song_table_create, artist_table_create, time_table_create]\n",
        "drop_table_queries = [songplay_table_drop, user_table_drop, song_table_drop, artist_table_drop, time_table_drop]"
      ],
      "metadata": {
        "id": "VdWGSOG9vJA9"
      },
      "execution_count": null,
      "outputs": []
    }
  ]
}